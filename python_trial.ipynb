{
 "cells": [
  {
   "cell_type": "code",
   "execution_count": 1,
   "id": "c497aa69-f752-4ad5-9380-6312b601b320",
   "metadata": {},
   "outputs": [
    {
     "ename": "NameError",
     "evalue": "name 'get_session' is not defined",
     "output_type": "error",
     "traceback": [
      "\u001b[0;31m---------------------------------------------------------------------------\u001b[0m",
      "\u001b[0;31mNameError\u001b[0m                                 Traceback (most recent call last)",
      "Cell \u001b[0;32mIn[1], line 5\u001b[0m\n\u001b[1;32m      1\u001b[0m \u001b[38;5;66;03m#code to read data from snowflake using FosforML\u001b[39;00m\n\u001b[1;32m      2\u001b[0m  \n\u001b[1;32m      3\u001b[0m \u001b[38;5;66;03m#from fosforml.model_manager.snowflakesession import get_session\u001b[39;00m\n\u001b[0;32m----> 5\u001b[0m my_session \u001b[38;5;241m=\u001b[39m \u001b[43mget_session\u001b[49m()\n\u001b[1;32m      7\u001b[0m table_name \u001b[38;5;241m=\u001b[39m \u001b[38;5;124m'\u001b[39m\u001b[38;5;124mCUSTOMER_TRANSACTION_DIM1\u001b[39m\u001b[38;5;124m'\u001b[39m\n\u001b[1;32m      9\u001b[0m sf_df \u001b[38;5;241m=\u001b[39m my_session\u001b[38;5;241m.\u001b[39msql(\u001b[38;5;124m\"\u001b[39m\u001b[38;5;124mselect * from \u001b[39m\u001b[38;5;132;01m{}\u001b[39;00m\u001b[38;5;124m\"\u001b[39m\u001b[38;5;241m.\u001b[39mformat(table_name))\n",
      "\u001b[0;31mNameError\u001b[0m: name 'get_session' is not defined"
     ]
    }
   ],
   "source": [
    "#code to read data from snowflake using FosforML\n",
    " \n",
    "from fosforml.model_manager.snowflakesession import get_session\n",
    "\n",
    "my_session = get_session()\n",
    " \n",
    "table_name = 'CUSTOMER_TRANSACTION_DIM1'\n",
    " \n",
    "sf_df = my_session.sql(\"select * from {}\".format(table_name)) #Table info sf_df madhe ghetli\n",
    "\n",
    "df = sf_df.to_pandas() #table la data frame madhe store krto\n",
    " \n",
    "print(df.shape) #for record count\n",
    "\n",
    "df.head(10) #to see data \n",
    " "
   ]
  },
  {
   "cell_type": "code",
   "execution_count": null,
   "id": "f3f81735-1846-4197-bc88-9f297f425051",
   "metadata": {},
   "outputs": [],
   "source": []
  }
 ],
 "metadata": {
  "kernelspec": {
   "display_name": "Python 3 (ipykernel)",
   "language": "python",
   "name": "python3"
  },
  "language_info": {
   "codemirror_mode": {
    "name": "ipython",
    "version": 3
   },
   "file_extension": ".py",
   "mimetype": "text/x-python",
   "name": "python",
   "nbconvert_exporter": "python",
   "pygments_lexer": "ipython3",
   "version": "3.9.19"
  }
 },
 "nbformat": 4,
 "nbformat_minor": 5
}

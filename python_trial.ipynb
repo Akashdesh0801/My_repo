{
 "cells": [
  {
   "cell_type": "code",
   "execution_count": 12,
   "id": "c497aa69-f752-4ad5-9380-6312b601b320",
   "metadata": {},
   "outputs": [
    {
     "name": "stdout",
     "output_type": "stream",
     "text": [
      "(122882, 29)\n"
     ]
    }
   ],
   "source": [
    "#code to read data from snowflake using FosforML\n",
    " \n",
    "from fosforml.model_manager.snowflakesession import get_session\n",
    "\n",
    "my_session = get_session()\n",
    " \n",
    "table_name = 'CUSTOMER_TRANSACTION_DIM1'\n",
    " \n",
    "sf_df = my_session.sql(\"select * from {}\".format(table_name)) #Table info sf_df madhe ghetli\n",
    "\n",
    "df = sf_df.to_pandas() #table la data frame madhe store krto\n",
    " \n",
    "print(df.shape) #for record count\n",
    "\n",
    "df.head() #to see data \n",
    " "
   ]
  },
  {
   "cell_type": "code",
   "execution_count": null,
   "id": "f3f81735-1846-4197-bc88-9f297f425051",
   "metadata": {},
   "outputs": [],
   "source": []
  },
  {
   "cell_type": "code",
   "execution_count": null,
   "id": "ceb59833-c03a-4e87-a24e-8333e3e9b873",
   "metadata": {},
   "outputs": [],
   "source": []
  }
 ],
 "metadata": {
  "kernelspec": {
   "display_name": "Python 3 (ipykernel)",
   "language": "python",
   "name": "python3"
  },
  "language_info": {
   "codemirror_mode": {
    "name": "ipython",
    "version": 3
   },
   "file_extension": ".py",
   "mimetype": "text/x-python",
   "name": "python",
   "nbconvert_exporter": "python",
   "pygments_lexer": "ipython3",
   "version": "3.9.19"
  }
 },
 "nbformat": 4,
 "nbformat_minor": 5
}
